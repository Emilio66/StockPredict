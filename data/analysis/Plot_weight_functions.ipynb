{
 "cells": [
  {
   "cell_type": "code",
   "execution_count": 17,
   "metadata": {},
   "outputs": [
    {
     "data": {
      "image/png": "[encoded data removed]",
      "text/plain": [
       "<matplotlib.figure.Figure at 0x7f601a0d83c8>"
      ]
     },
     "metadata": {},
     "output_type": "display_data"
    }
   ],
   "source": [
    "import matplotlib.pyplot as plt\n",
    "import numpy as np\n",
    "\n",
    "fig, ax = plt.subplots()\n",
    "\n",
    "x = np.arange(8)\n",
    "y4 = np.array([\n",
    "0.6287577673,\n",
    "0.6336645992,\n",
    "0.6291925498,\n",
    "0.6391304375,\n",
    "0.6316770216,\n",
    "0.5710559024,\n",
    "0.5498136664,\n",
    "0.5173291943\n",
    "])\n",
    "y8 = np.array([\n",
    "0.629745376,\n",
    "0.622981358,\n",
    "0.642235945,\n",
    "0.6598136564,\n",
    "0.6455589977,\n",
    "0.6091925409,\n",
    "0.5324223557,\n",
    "0.5073912983\n",
    "])\n",
    "y16 = np.array([\n",
    "0.6260248488,\n",
    "0.6279503154,\n",
    "0.6361490666,\n",
    "0.6217391281,\n",
    "0.5881987592,\n",
    "0.5906832309,\n",
    "0.4950310567,\n",
    "0.419254668\n",
    "])\n",
    "w=0.3\n",
    "opacity = 0.4\n",
    "\n",
    "bar1 = plt.bar(x-w, y4,width=w,alpha=opacity,color='b',align='center')\n",
    "bar2 = plt.bar(x, y8,width=w,alpha=opacity,color='y',align='center')\n",
    "bar3 = plt.bar(x+w, y16,width=w,alpha=opacity,color='g',align='center')\n",
    "\n",
    "plt.ylim(0.40, 0.70)\n",
    "#ax.set_yticks(np.linspace(0.62,0.82,11))\n",
    "ax.set_xticklabels( (r'$\\alpha$',\n",
    "\tr'$1$',\n",
    "\tr'$\\log \\left ( t \\right )$',\n",
    "\tr'$t$',\n",
    "\tr'$t \\log \\left ( t \\right )$',\n",
    "\tr'$t^{2}$',\n",
    "\tr'$t^{3}$',\n",
    "\tr'$t^{4}$',\n",
    "\tr'$e^{t}$'))\n",
    "ax.legend((bar1[0], bar2[0], bar3[0]), ('4 timestep', '8 timestep', '16 timestep'))\n",
    "#ax.set_xlabel('Time-weighted function $\\omega(t)$')\n",
    "ax.set_ylabel('Avg. Accuracy')\n",
    "plt.show()\n"
   ]
  },
  {
   "cell_type": "code",
   "execution_count": null,
   "metadata": {},
   "outputs": [],
   "source": []
  }
 ],
 "metadata": {
  "kernelspec": {
   "display_name": "Python 3",
   "language": "python",
   "name": "python3"
  },
  "language_info": {
   "codemirror_mode": {
    "name": "ipython",
    "version": 3
   },
   "file_extension": ".py",
   "mimetype": "text/x-python",
   "name": "python",
   "nbconvert_exporter": "python",
   "pygments_lexer": "ipython3",
   "version": "3.5.2"
  }
 },
 "nbformat": 4,
 "nbformat_minor": 2
}
